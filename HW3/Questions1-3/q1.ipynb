{
 "cells": [
  {
   "cell_type": "markdown",
   "metadata": {},
   "source": [
    "# Question 1\n",
    "In this question we're gonna find some association rules using apriori itemset selection algorithm. I've implemented the apriori and the rule extraction algorithms in the `apriori.py` file and imported the class here to use in the report.\n",
    "We first define the transactions and initialize a new apriori solver instance."
   ]
  },
  {
   "cell_type": "code",
   "execution_count": 1,
   "metadata": {},
   "outputs": [],
   "source": [
    "from apriori import APriori"
   ]
  },
  {
   "cell_type": "markdown",
   "metadata": {},
   "source": [
    "## Part 1"
   ]
  },
  {
   "cell_type": "code",
   "execution_count": 2,
   "metadata": {},
   "outputs": [],
   "source": [
    "transactions = [\n",
    "    {'A', 'B', 'D', 'G'},\n",
    "    {'B', 'D', 'E'},\n",
    "    {'A', 'B', 'C', 'E', 'F'},\n",
    "    {'B', 'D', 'E', 'G'},\n",
    "    {'A', 'B', 'C', 'E', 'F'},\n",
    "    {'B', 'E', 'G'},\n",
    "    {'A', 'C', 'D', 'E'},\n",
    "    {'B', 'E'},\n",
    "    {'A', 'B', 'E', 'F'},\n",
    "    {'A', 'C', 'D', 'E'},\n",
    "]\n",
    "solver = APriori(transactions)"
   ]
  },
  {
   "cell_type": "markdown",
   "metadata": {},
   "source": [
    "### All frequent items and rules\n",
    "First we use the `get_frequent_item_sets` and `get_extracted_rules` methods to find all of the rules in the transactions that have `min_support` of 0.4 and `min_confidence` of 0.7."
   ]
  },
  {
   "cell_type": "code",
   "execution_count": 3,
   "metadata": {},
   "outputs": [
    {
     "name": "stdout",
     "output_type": "stream",
     "text": [
      "All frequent itemsets: (min_support = 0.4)\n",
      "{'A'}, s = 0.6\n",
      "{'B'}, s = 0.8\n",
      "{'C'}, s = 0.4\n",
      "{'D'}, s = 0.5\n",
      "{'E'}, s = 0.9\n",
      "{'A', 'B'}, s = 0.4\n",
      "{'C', 'A'}, s = 0.4\n",
      "{'A', 'E'}, s = 0.5\n",
      "{'B', 'E'}, s = 0.7\n",
      "{'C', 'E'}, s = 0.4\n",
      "{'D', 'E'}, s = 0.4\n",
      "{'C', 'A', 'E'}, s = 0.4\n",
      "\n",
      "All association rules: (min_confidence = 0.7)\n",
      "{'C'} -> {'A'}, s = 0.4, c = 1.0\n",
      "{'A'} -> {'E'}, s = 0.5, c = 0.8333333333333334\n",
      "{'E'} -> {'B'}, s = 0.7, c = 0.7777777777777778\n",
      "{'B'} -> {'E'}, s = 0.7, c = 0.875\n",
      "{'C'} -> {'E'}, s = 0.4, c = 1.0\n",
      "{'D'} -> {'E'}, s = 0.4, c = 0.8\n",
      "{'A', 'E'} -> {'C'}, s = 0.4, c = 0.8\n",
      "{'C', 'E'} -> {'A'}, s = 0.4, c = 1.0\n",
      "{'C', 'A'} -> {'E'}, s = 0.4, c = 1.0\n",
      "{'C'} -> {'A', 'E'}, s = 0.4, c = 1.0\n",
      "{'C'} -> {'A', 'E'}, s = 0.4, c = 1.0\n"
     ]
    }
   ],
   "source": [
    "all_frequents = solver.get_frequent_item_sets(.4)\n",
    "all_rules = solver.get_extracted_rules(.7, frequent_item_set=all_frequents)\n",
    "print('All frequent itemsets: (min_support = 0.4)')\n",
    "for k in all_frequents:\n",
    "    print('\\n'.join(map(str, all_frequents[k])))\n",
    "print()\n",
    "print('All association rules: (min_confidence = 0.7)')\n",
    "print('\\n'.join(map(str, all_rules)))"
   ]
  },
  {
   "cell_type": "markdown",
   "metadata": {},
   "source": [
    "### a)\n",
    "Frequent 1-itemsets:"
   ]
  },
  {
   "cell_type": "code",
   "execution_count": 4,
   "metadata": {},
   "outputs": [
    {
     "name": "stdout",
     "output_type": "stream",
     "text": [
      "{'A'}, s = 0.6\n",
      "{'B'}, s = 0.8\n",
      "{'C'}, s = 0.4\n",
      "{'D'}, s = 0.5\n",
      "{'E'}, s = 0.9\n"
     ]
    }
   ],
   "source": [
    "print('\\n'.join(map(str, all_frequents[1])))"
   ]
  },
  {
   "cell_type": "markdown",
   "metadata": {},
   "source": [
    "### b)\n",
    "Frequent 2-itemsets:"
   ]
  },
  {
   "cell_type": "code",
   "execution_count": 5,
   "metadata": {},
   "outputs": [
    {
     "name": "stdout",
     "output_type": "stream",
     "text": [
      "{'A', 'B'}, s = 0.4\n",
      "{'C', 'A'}, s = 0.4\n",
      "{'A', 'E'}, s = 0.5\n",
      "{'B', 'E'}, s = 0.7\n",
      "{'C', 'E'}, s = 0.4\n",
      "{'D', 'E'}, s = 0.4\n"
     ]
    }
   ],
   "source": [
    "print('\\n'.join(map(str, all_frequents[2])))"
   ]
  },
  {
   "cell_type": "markdown",
   "metadata": {},
   "source": [
    "### c)\n",
    "Frequent 2-itemsets which generate a rule whose support value is greater than 0.7:"
   ]
  },
  {
   "cell_type": "code",
   "execution_count": 6,
   "metadata": {},
   "outputs": [
    {
     "name": "stdout",
     "output_type": "stream",
     "text": [
      "{'C', 'A'}\n",
      "{'A', 'E'}\n",
      "{'B', 'E'}\n",
      "{'B', 'E'}\n",
      "{'C', 'E'}\n",
      "{'D', 'E'}\n"
     ]
    }
   ],
   "source": [
    "selected_rules = solver.get_extracted_rules(min_confidence=.7, frequent_item_set={2: all_frequents[2]})\n",
    "print('\\n'.join(map(lambda rule: str(rule.item_set), selected_rules)))"
   ]
  },
  {
   "cell_type": "markdown",
   "metadata": {},
   "source": [
    "### d) \n",
    "Associan rules that have a confidence value of 1:"
   ]
  },
  {
   "cell_type": "code",
   "execution_count": 7,
   "metadata": {},
   "outputs": [
    {
     "name": "stdout",
     "output_type": "stream",
     "text": [
      "{'C'} -> {'A'}, s = 0.4, c = 1.0\n",
      "{'C'} -> {'E'}, s = 0.4, c = 1.0\n",
      "{'C', 'E'} -> {'A'}, s = 0.4, c = 1.0\n",
      "{'C', 'A'} -> {'E'}, s = 0.4, c = 1.0\n",
      "{'C'} -> {'A', 'E'}, s = 0.4, c = 1.0\n",
      "{'C'} -> {'A', 'E'}, s = 0.4, c = 1.0\n"
     ]
    }
   ],
   "source": [
    "max_confident_rules = filter(lambda rule: rule.confidence == 1, all_rules)\n",
    "print('\\n'.join(map(str, max_confident_rules)))"
   ]
  },
  {
   "cell_type": "markdown",
   "metadata": {},
   "source": [
    "### e)\n",
    "As noted above, the `B => E` rule has a support of 0.7 and a confidence of 0.875."
   ]
  },
  {
   "cell_type": "markdown",
   "metadata": {},
   "source": [
    "## Part 2"
   ]
  },
  {
   "cell_type": "code",
   "execution_count": 9,
   "metadata": {},
   "outputs": [],
   "source": [
    "transactions = [\n",
    "    {'A', 'C', 'D'},\n",
    "    {'B', 'C', 'E'},\n",
    "    {'A', 'B', 'C', 'E'},\n",
    "    {'B', 'E'}\n",
    "]\n",
    "solver = APriori(transactions)"
   ]
  },
  {
   "cell_type": "markdown",
   "metadata": {},
   "source": [
    "### a)\n",
    "Frequent itemsets with `min_support` of 0.4."
   ]
  },
  {
   "cell_type": "code",
   "execution_count": 10,
   "metadata": {},
   "outputs": [
    {
     "name": "stdout",
     "output_type": "stream",
     "text": [
      "All frequent itemsets: (min_support = 0.4)\n",
      "{'A'}, s = 0.5\n",
      "{'B'}, s = 0.75\n",
      "{'C'}, s = 0.75\n",
      "{'E'}, s = 0.75\n",
      "{'C', 'A'}, s = 0.5\n",
      "{'C', 'B'}, s = 0.5\n",
      "{'B', 'E'}, s = 0.75\n",
      "{'C', 'E'}, s = 0.5\n",
      "{'B', 'C', 'E'}, s = 0.5\n"
     ]
    }
   ],
   "source": [
    "all_frequents = solver.get_frequent_item_sets(.4)\n",
    "print('All frequent itemsets: (min_support = 0.4)')\n",
    "for k in all_frequents:\n",
    "    print('\\n'.join(map(str, all_frequents[k])))"
   ]
  },
  {
   "cell_type": "markdown",
   "metadata": {},
   "source": [
    "## b)\n",
    "Association rules from the previous itemsets with `min_confidence` bigger than 0.65."
   ]
  },
  {
   "cell_type": "code",
   "execution_count": 14,
   "metadata": {},
   "outputs": [
    {
     "name": "stdout",
     "output_type": "stream",
     "text": [
      "Selected association rules: (min_confidence = 0.65)\n",
      "{'A'} -> {'C'}, s = 0.5, c = 1.0\n",
      "{'C'} -> {'A'}, s = 0.5, c = 0.6666666666666666\n",
      "{'B'} -> {'C'}, s = 0.5, c = 0.6666666666666666\n",
      "{'C'} -> {'B'}, s = 0.5, c = 0.6666666666666666\n",
      "{'E'} -> {'B'}, s = 0.75, c = 1.0\n",
      "{'B'} -> {'E'}, s = 0.75, c = 1.0\n",
      "{'E'} -> {'C'}, s = 0.5, c = 0.6666666666666666\n",
      "{'C'} -> {'E'}, s = 0.5, c = 0.6666666666666666\n",
      "{'C', 'E'} -> {'B'}, s = 0.5, c = 1.0\n",
      "{'B', 'E'} -> {'C'}, s = 0.5, c = 0.6666666666666666\n",
      "{'C', 'B'} -> {'E'}, s = 0.5, c = 1.0\n",
      "{'E'} -> {'C', 'B'}, s = 0.5, c = 0.6666666666666666\n",
      "{'C'} -> {'B', 'E'}, s = 0.5, c = 0.6666666666666666\n",
      "{'E'} -> {'C', 'B'}, s = 0.5, c = 0.6666666666666666\n",
      "{'B'} -> {'C', 'E'}, s = 0.5, c = 0.6666666666666666\n",
      "{'B'} -> {'C', 'E'}, s = 0.5, c = 0.6666666666666666\n",
      "{'C'} -> {'B', 'E'}, s = 0.5, c = 0.6666666666666666\n"
     ]
    }
   ],
   "source": [
    "selected_rules = solver.get_extracted_rules(.65, frequent_item_set=all_frequents)\n",
    "print('Selected association rules: (min_confidence = 0.65)')\n",
    "print('\\n'.join(map(str, selected_rules)))"
   ]
  },
  {
   "cell_type": "markdown",
   "metadata": {},
   "source": [
    "### c)\n",
    "Association rules from the previous itemsets with `min_confidence` bigger than 0.8."
   ]
  },
  {
   "cell_type": "code",
   "execution_count": 17,
   "metadata": {},
   "outputs": [
    {
     "name": "stdout",
     "output_type": "stream",
     "text": [
      "Selected association rules: (min_confidence = 0.8)\n",
      "{'A'} -> {'C'}, s = 0.5, c = 1.0\n",
      "{'E'} -> {'B'}, s = 0.75, c = 1.0\n",
      "{'B'} -> {'E'}, s = 0.75, c = 1.0\n",
      "{'C', 'E'} -> {'B'}, s = 0.5, c = 1.0\n",
      "{'C', 'B'} -> {'E'}, s = 0.5, c = 1.0\n"
     ]
    }
   ],
   "source": [
    "selected_rules = solver.get_extracted_rules(.85, frequent_item_set=all_frequents)\n",
    "print('Selected association rules: (min_confidence = 0.8)')\n",
    "print('\\n'.join(map(str, selected_rules)))"
   ]
  },
  {
   "cell_type": "markdown",
   "metadata": {},
   "source": [
    "### d)\n",
    "As shown above, the confidence of `E => C` is 0.66.\n",
    "### e)\n",
    "As shown above, the confidence of `B => C` is 0.66."
   ]
  }
 ],
 "metadata": {
  "kernelspec": {
   "display_name": "Python 3",
   "language": "python",
   "name": "python3"
  },
  "language_info": {
   "codemirror_mode": {
    "name": "ipython",
    "version": 3
   },
   "file_extension": ".py",
   "mimetype": "text/x-python",
   "name": "python",
   "nbconvert_exporter": "python",
   "pygments_lexer": "ipython3",
   "version": "3.7.0"
  }
 },
 "nbformat": 4,
 "nbformat_minor": 1
}
