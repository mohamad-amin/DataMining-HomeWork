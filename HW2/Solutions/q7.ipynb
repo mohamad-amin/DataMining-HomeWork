{
 "cells": [
  {
   "cell_type": "markdown",
   "metadata": {
    "collapsed": true
   },
   "source": [
    "# Problem 7\n"
   ]
  },
  {
   "cell_type": "code",
   "execution_count": 45,
   "metadata": {
    "collapsed": true
   },
   "outputs": [],
   "source": [
    "import pandas as pd\n",
    "import numpy as np\n",
    "import matplotlib.pyplot as plot\n",
    "\n",
    "%matplotlib inline"
   ]
  },
  {
   "cell_type": "markdown",
   "metadata": {},
   "source": [
    "## Reading the data\n",
    "\n",
    "Reading the data\n",
    "We use the pandas' `read_csv` method to read the data file into a pandas `DataFrame` and then partition the data into `test` and `train` datasets with a 25% test proportion."
   ]
  },
  {
   "cell_type": "code",
   "execution_count": 46,
   "metadata": {},
   "outputs": [],
   "source": [
    "\n",
    "from sklearn.model_selection import train_test_split\n",
    "\n",
    "df = pd.read_csv('../Questions/Q7_Data/US Presidential Data.csv')\n",
    "X = df.values[:, 1:]\n",
    "y = df.values[:, 0]\n",
    "\n",
    "X, XTest, y, yTest = train_test_split(X, y, test_size=0.25)"
   ]
  },
  {
   "cell_type": "markdown",
   "metadata": {},
   "source": [
    "## Training 1-NN classifier\n",
    "We use the `KNeighborsClassifier` from the `sklearn` package to train the model and then measure the error on it using the eculidian norm.\n"
   ]
  },
  {
   "cell_type": "code",
   "execution_count": 47,
   "metadata": {},
   "outputs": [
    {
     "name": "stdout",
     "output_type": "stream",
     "text": [
      "Error for training set on 1-NN classifier: 0.000000\n"
     ]
    }
   ],
   "source": [
    "from sklearn.neighbors import KNeighborsClassifier as KNN\n",
    "\n",
    "model = KNN(n_neighbors=1)\n",
    "model.fit(X, y)\n",
    "\n",
    "predictions = model.predict(X)\n",
    "error = np.linalg.norm(predictions - y)\n",
    "print('Error for training set on 1-NN classifier: %f' % error)"
   ]
  },
  {
   "cell_type": "markdown",
   "metadata": {},
   "source": [
    "## Testing different Ks for K-NN\n",
    "We use different Ks for the model (1, 3, ..., 99) to test the performance of the model on our train and test datasets.\n",
    "Then we plot the errors to visualize the effect of K in the K-NN classifier on this dataset.\n",
    "As shown in the plot, the training error increases as the K is increased but the test error is roughly the same, although it has some ups and downs."
   ]
  },
  {
   "cell_type": "code",
   "execution_count": 48,
   "metadata": {},
   "outputs": [
    {
     "data": {
      "text/plain": [
       "<matplotlib.legend.Legend at 0x101011710>"
      ]
     },
     "execution_count": 48,
     "metadata": {},
     "output_type": "execute_result"
    },
    {
     "data": {
      "image/png": "[encoded data removed]",
      "text/plain": [
       "<Figure size 432x288 with 1 Axes>"
      ]
     },
     "metadata": {},
     "output_type": "display_data"
    }
   ],
   "source": [
    "ks = [i for i in range(1, 100, 2)]\n",
    "\n",
    "test_errors = []\n",
    "train_errors = []\n",
    "for k in ks:\n",
    "    model = KNN(n_neighbors=k)\n",
    "    model.fit(X, y)\n",
    "    train_p = model.predict(X)\n",
    "    test_p = model.predict(XTest)\n",
    "    train_errors.append(np.linalg.norm(y - train_p))\n",
    "    test_errors.append(np.linalg.norm(yTest - test_p))\n",
    "    \n",
    "plot.plot(ks, train_errors, label='Train error')\n",
    "plot.plot(ks, test_errors, label='Test error')\n",
    "plot.xlabel('K for K-NN')\n",
    "plot.ylabel('Error')\n",
    "plot.title('Test and train error for different Ks for K-NN algorithm')\n",
    "plot.legend()\n"
   ]
  }
 ],
 "metadata": {
  "kernelspec": {
   "display_name": "Python 2",
   "language": "python",
   "name": "python2"
  },
  "language_info": {
   "codemirror_mode": {
    "name": "ipython",
    "version": 2
   },
   "file_extension": ".py",
   "mimetype": "text/x-python",
   "name": "python",
   "nbconvert_exporter": "python",
   "pygments_lexer": "ipython2",
   "version": "2.7.6"
  }
 },
 "nbformat": 4,
 "nbformat_minor": 0
}
